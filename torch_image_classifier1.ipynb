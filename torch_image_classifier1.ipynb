{
 "cells": [
  {
   "cell_type": "code",
   "execution_count": 3,
   "metadata": {},
   "outputs": [],
   "source": [
    "%matplotlib inline"
   ]
  },
  {
   "cell_type": "code",
   "execution_count": 30,
   "metadata": {},
   "outputs": [
    {
     "data": {
      "text/plain": [
       "True"
      ]
     },
     "execution_count": 30,
     "metadata": {},
     "output_type": "execute_result"
    }
   ],
   "source": [
    "# determine availability of GPU\n",
    "torch.cuda.is_available()"
   ]
  },
  {
   "cell_type": "code",
   "execution_count": 37,
   "metadata": {
    "scrolled": true
   },
   "outputs": [
    {
     "name": "stdout",
     "output_type": "stream",
     "text": [
      "Files already downloaded and verified\n",
      "Files already downloaded and verified\n"
     ]
    }
   ],
   "source": [
    "# Train an image classifier with cifar10 dataset\n",
    "\n",
    "import torch\n",
    "# Contains dataset and data loaders for vision training\n",
    "import torchvision\n",
    "import torchvision.transforms as transforms\n",
    "\n",
    "# transform.compose() to serialize a sequece of transformes to image\n",
    "# ToTensor() to transform PIL image or numpy image to torch image\n",
    "# channel*hight*width with range[0., 1.]\n",
    "# Normalize() to normalize a tensor image with (mean, std) for n channels\n",
    "transform = transforms.Compose(\n",
    "    [transforms.ToTensor(),\n",
    "     transforms.Normalize((0.5, 0.5, 0.5), (0.5, 0.5, 0.5))])\n",
    "\n",
    "# Load data\n",
    "trainset = torchvision.datasets.CIFAR10(root='./data', train=True,\n",
    "                                        download=True, transform=transform)\n",
    "trainloader = torch.utils.data.DataLoader(trainset, batch_size=4,\n",
    "                                          shuffle=True, num_workers=2, \n",
    "                                          )\n",
    "\n",
    "testset = torchvision.datasets.CIFAR10(root='./data', train=False,\n",
    "                                       download=True, transform=transform)\n",
    "testloader = torch.utils.data.DataLoader(testset, batch_size=4,\n",
    "                                         shuffle=False, num_workers=2, \n",
    "                                         )\n",
    "\n",
    "classes = ('plane', 'car', 'bird', 'cat',\n",
    "           'deer', 'dog', 'frog', 'horse', 'ship', 'truck')"
   ]
  },
  {
   "cell_type": "code",
   "execution_count": 7,
   "metadata": {},
   "outputs": [
    {
     "data": {
      "image/png": "[encoded data removed]",
      "text/plain": [
       "<Figure size 432x288 with 1 Axes>"
      ]
     },
     "metadata": {
      "needs_background": "light"
     },
     "output_type": "display_data"
    },
    {
     "name": "stdout",
     "output_type": "stream",
     "text": [
      "         cat        truck         frog        horse\n"
     ]
    }
   ],
   "source": [
    "import matplotlib.pyplot as plt\n",
    "import numpy as np\n",
    "\n",
    "def imshow(img):\n",
    "    img = img / 2 + 0.5     # unnormalize\n",
    "    npimg = img.numpy()\n",
    "    plt.imshow(np.transpose(npimg, (1, 2, 0)))\n",
    "    plt.show()\n",
    "\n",
    "\n",
    "# get some random training images\n",
    "dataiter = iter(trainloader)\n",
    "images, labels = dataiter.next()\n",
    "\n",
    "# show images\n",
    "imshow(torchvision.utils.make_grid(images))\n",
    "# print labels\n",
    "print(' '.join('%12s' % classes[labels[j]] for j in range(4)))"
   ]
  },
  {
   "cell_type": "code",
   "execution_count": 51,
   "metadata": {},
   "outputs": [
    {
     "data": {
      "text/plain": [
       "Net(\n",
       "  (conv1): Conv2d(3, 16, kernel_size=(5, 5), stride=(1, 1))\n",
       "  (pool): MaxPool2d(kernel_size=2, stride=2, padding=0, dilation=1, ceil_mode=False)\n",
       "  (conv2): Conv2d(16, 16, kernel_size=(5, 5), stride=(1, 1))\n",
       "  (fc1): Linear(in_features=400, out_features=120, bias=True)\n",
       "  (fc2): Linear(in_features=120, out_features=84, bias=True)\n",
       "  (fc3): Linear(in_features=84, out_features=10, bias=True)\n",
       ")"
      ]
     },
     "execution_count": 51,
     "metadata": {},
     "output_type": "execute_result"
    }
   ],
   "source": [
    "import torch.nn as nn\n",
    "import torch.nn.functional as F\n",
    "\n",
    "# Define a CNN\n",
    "class Net(nn.Module):\n",
    "    def __init__(self):\n",
    "        super(Net, self).__init__()\n",
    "        self.conv1 = nn.Conv2d(3, 16, 5)\n",
    "        self.pool = nn.MaxPool2d(2, 2)\n",
    "        self.conv2 = nn.Conv2d(16, 16, 5)\n",
    "        # Linear full connections\n",
    "        self.fc1 = nn.Linear(16 * 5 * 5, 120)\n",
    "        self.fc2 = nn.Linear(120, 84)\n",
    "        self.fc3 = nn.Linear(84, 10)\n",
    "    # Feed forward\n",
    "    def forward(self, x):\n",
    "        x = self.pool(F.relu(self.conv1(x)))\n",
    "        x = self.pool(F.relu(self.conv2(x)))\n",
    "        x = x.view(-1, 16 * 5 * 5)\n",
    "        x = F.relu(self.fc1(x))\n",
    "        x = F.relu(self.fc2(x))\n",
    "        x = self.fc3(x)\n",
    "        return x\n",
    "    \n",
    "net = Net()\n",
    "\n",
    "# Try GPU\n",
    "device = torch.device(\"cuda:0\" if torch.cuda.is_available() else \"cpu\")\n",
    "net.to(device)"
   ]
  },
  {
   "cell_type": "code",
   "execution_count": 52,
   "metadata": {},
   "outputs": [],
   "source": [
    "# Define a loss function and optimizer for back propagation\n",
    "\n",
    "import torch.optim as optim\n",
    "\n",
    "criterion = nn.CrossEntropyLoss()\n",
    "optimizer = optim.SGD(net.parameters(), lr=0.001, momentum=0.9)"
   ]
  },
  {
   "cell_type": "code",
   "execution_count": 53,
   "metadata": {},
   "outputs": [],
   "source": [
    "def train(cycles):\n",
    "    for _ in range(cycles):\n",
    "        running_loss = 0.0\n",
    "        for i, data in enumerate(trainloader):\n",
    "            samples, labels = data\n",
    "            samples, labels = samples.to(device), labels.to(device)\n",
    "            # Zero the gradients from previous round, otherwise new grad will addon\n",
    "            optimizer.zero_grad()\n",
    "            # Forward prop\n",
    "            outputs = net(samples)\n",
    "            # Calculate loss\n",
    "            loss = criterion(outputs, labels)\n",
    "            # Back prop, grad calculated automatically\n",
    "            loss.backward()\n",
    "            # Apply error correction to W and B automatically\n",
    "            optimizer.step()\n",
    "            \n",
    "            # Monitor the process\n",
    "            running_loss += loss.item() # Convert a scalar torch vector to python number\n",
    "            if i % 2000 == 1999:    # print every 2000 mini-batches\n",
    "                print('[%d, %5d] loss: %.3f' %\n",
    "                  (_ + 1, i + 1, running_loss / 2000))\n",
    "                running_loss = 0.0\n",
    "            "
   ]
  },
  {
   "cell_type": "code",
   "execution_count": 54,
   "metadata": {},
   "outputs": [
    {
     "name": "stdout",
     "output_type": "stream",
     "text": [
      "[1,  2000] loss: 1.998\n",
      "[1,  4000] loss: 1.720\n",
      "[1,  6000] loss: 1.670\n",
      "[1,  8000] loss: 1.601\n",
      "[1, 10000] loss: 1.614\n",
      "[1, 12000] loss: 1.583\n",
      "[2,  2000] loss: 1.542\n",
      "[2,  4000] loss: 1.550\n",
      "[2,  6000] loss: 1.551\n",
      "[2,  8000] loss: 1.542\n",
      "[2, 10000] loss: 1.568\n",
      "[2, 12000] loss: 1.561\n",
      "[3,  2000] loss: 1.532\n",
      "[3,  4000] loss: 1.531\n",
      "[3,  6000] loss: 1.527\n",
      "[3,  8000] loss: 1.553\n",
      "[3, 10000] loss: 1.576\n",
      "[3, 12000] loss: 1.537\n",
      "[4,  2000] loss: 1.522\n",
      "[4,  4000] loss: 1.505\n",
      "[4,  6000] loss: 1.556\n",
      "[4,  8000] loss: 1.536\n",
      "[4, 10000] loss: 1.588\n",
      "[4, 12000] loss: 1.552\n",
      "[5,  2000] loss: 1.529\n",
      "[5,  4000] loss: 1.570\n",
      "[5,  6000] loss: 1.564\n",
      "[5,  8000] loss: 1.571\n",
      "[5, 10000] loss: 1.593\n",
      "[5, 12000] loss: 1.591\n"
     ]
    }
   ],
   "source": [
    "train(5)"
   ]
  },
  {
   "cell_type": "code",
   "execution_count": 21,
   "metadata": {},
   "outputs": [
    {
     "data": {
      "image/png": "[encoded data removed]",
      "text/plain": [
       "<Figure size 432x288 with 1 Axes>"
      ]
     },
     "metadata": {
      "needs_background": "light"
     },
     "output_type": "display_data"
    },
    {
     "name": "stdout",
     "output_type": "stream",
     "text": [
      "Target:       cat     ship     ship    plane\n"
     ]
    }
   ],
   "source": [
    "# Test an example\n",
    "\n",
    "dataiter = iter(testloader)\n",
    "images, labels = dataiter.next()\n",
    "\n",
    "# print images\n",
    "imshow(torchvision.utils.make_grid(images))\n",
    "print('Target: ', ' '.join('%8s' % classes[labels[j]] for j in range(4)))"
   ]
  },
  {
   "cell_type": "code",
   "execution_count": 22,
   "metadata": {},
   "outputs": [
    {
     "name": "stdout",
     "output_type": "stream",
     "text": [
      "tensor([[-1.1109, -1.4188,  0.8900,  2.1098,  0.1367,  1.0107,  1.0881, -1.0339,\n",
      "          0.0330, -1.2825],\n",
      "        [ 6.6142,  6.7364, -1.2571, -3.4030, -2.8709, -5.0793, -4.6117, -4.2963,\n",
      "          6.6409,  3.8927],\n",
      "        [ 2.4427,  1.9813, -0.0283, -0.8971, -1.4732, -2.2950, -2.8372, -1.0822,\n",
      "          2.0676,  2.3716],\n",
      "        [ 4.5640,  3.6291,  0.4901, -1.5064, -1.8312, -3.8180, -3.9310, -2.8585,\n",
      "          4.9449,  2.0516]], grad_fn=<AddmmBackward>)\n",
      "tensor([3, 1, 0, 8])\n",
      "Predicted:    cat   car plane  ship\n"
     ]
    }
   ],
   "source": [
    "# Generate the output from the trained ANN\n",
    "outputs = net(images)\n",
    "print(outputs)\n",
    "# torch.max(x, 1) return the max element in each row of x tensor and the index\n",
    "_, predicted = torch.max(outputs, 1)\n",
    "print(predicted) # print the index\n",
    "# \n",
    "print('Predicted: ', ' '.join('%5s' % classes[predicted[j]] for j in range(4)))\n"
   ]
  },
  {
   "cell_type": "code",
   "execution_count": 56,
   "metadata": {
    "scrolled": true
   },
   "outputs": [
    {
     "name": "stdout",
     "output_type": "stream",
     "text": [
      "Accuracy of the network on the 10000 test images: 46 %\n"
     ]
    }
   ],
   "source": [
    "# Total statistics of testing\n",
    "correct = 0\n",
    "total = 0\n",
    "# No gradient calculation is necessary during \n",
    "with torch.no_grad():\n",
    "    for data in testloader:\n",
    "        images, labels = data\n",
    "        images, labels = images.to(device), labels.to(device)\n",
    "        outputs = net(images)\n",
    "        _, predicted = torch.max(outputs.data, 1)\n",
    "        total += labels.size(0)\n",
    "        correct += (predicted == labels).sum().item()\n",
    "\n",
    "print('Accuracy of the network on the 10000 test images: %d %%' % (\n",
    "    100 * correct / total))"
   ]
  },
  {
   "cell_type": "code",
   "execution_count": 24,
   "metadata": {},
   "outputs": [
    {
     "name": "stdout",
     "output_type": "stream",
     "text": [
      "Accuracy of plane : 61 %\n",
      "Accuracy of   car : 79 %\n",
      "Accuracy of  bird : 46 %\n",
      "Accuracy of   cat : 46 %\n",
      "Accuracy of  deer : 41 %\n",
      "Accuracy of   dog : 25 %\n",
      "Accuracy of  frog : 64 %\n",
      "Accuracy of horse : 54 %\n",
      "Accuracy of  ship : 74 %\n",
      "Accuracy of truck : 56 %\n"
     ]
    }
   ],
   "source": [
    "class_correct = list(0. for i in range(10))\n",
    "class_total = list(0. for i in range(10))\n",
    "with torch.no_grad():\n",
    "    for data in testloader:\n",
    "        images, labels = data\n",
    "        outputs = net(images)\n",
    "        _, predicted = torch.max(outputs, 1)\n",
    "        c = (predicted == labels).squeeze()\n",
    "        for i in range(4):\n",
    "            label = labels[i]\n",
    "            class_correct[label] += c[i].item()\n",
    "            class_total[label] += 1\n",
    "\n",
    "\n",
    "for i in range(10):\n",
    "    print('Accuracy of %5s : %2d %%' % (\n",
    "        classes[i], 100 * class_correct[i] / class_total[i]))"
   ]
  }
 ],
 "metadata": {
  "kernelspec": {
   "display_name": "Python 3",
   "language": "python",
   "name": "python3"
  },
  "language_info": {
   "codemirror_mode": {
    "name": "ipython",
    "version": 3
   },
   "file_extension": ".py",
   "mimetype": "text/x-python",
   "name": "python",
   "nbconvert_exporter": "python",
   "pygments_lexer": "ipython3",
   "version": "3.6.7"
  }
 },
 "nbformat": 4,
 "nbformat_minor": 2
}
